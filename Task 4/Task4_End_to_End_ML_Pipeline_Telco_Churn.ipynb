{
 "cells": [
  {
   "cell_type": "markdown",
   "id": "4cf3a8af",
   "metadata": {},
   "source": [
    "# Task2_End_to_End_ML_Pipeline_Telco_Churn\n",
    "\n",
    "Objective: Build an end-to-end scikit-learn pipeline for Telco Churn. Demo mode uses synthetic data."
   ]
  },
  {
   "cell_type": "code",
   "execution_count": null,
   "id": "4cd46830",
   "metadata": {},
   "outputs": [],
   "source": [
    "DEMO_MODE = True\n",
    "import pandas as pd\n",
    "from sklearn.pipeline import Pipeline\n",
    "from sklearn.compose import ColumnTransformer\n",
    "from sklearn.impute import SimpleImputer\n",
    "from sklearn.preprocessing import StandardScaler, OneHotEncoder\n",
    "from sklearn.ensemble import RandomForestClassifier\n",
    "from sklearn.model_selection import train_test_split, GridSearchCV\n",
    "from sklearn.metrics import classification_report, accuracy_score\n",
    "import joblib\n"
   ]
  },
  {
   "cell_type": "code",
   "execution_count": null,
   "id": "f8a455ff",
   "metadata": {},
   "outputs": [],
   "source": [
    "if DEMO_MODE:\n",
    "    import numpy as np\n",
    "    n=500\n",
    "    rng=np.random.default_rng(0)\n",
    "    df = pd.DataFrame({'tenure':rng.integers(0,72,n),'MonthlyCharges':rng.uniform(20,120,n).round(2),'Contract':rng.choice(['Month-to-month','One year','Two year'],n),'InternetService':rng.choice(['DSL','Fiber optic','No'],n),'gender':rng.choice(['Male','Female'],n),'SeniorCitizen':rng.choice([0,1],n,p=[0.85,0.15])})\n",
    "    prob = 0.4 - 0.003*df['tenure'] + 0.002*(df['MonthlyCharges']-50)\n",
    "    df['Churn'] = (rng.random(n) < prob.clip(0.05,0.95)).astype(int)\n",
    "else:\n",
    "    df = pd.read_csv('Telco-Customer-Churn.csv')\n",
    "\n",
    "print(df.head())"
   ]
  },
  {
   "cell_type": "code",
   "execution_count": null,
   "id": "05373010",
   "metadata": {},
   "outputs": [],
   "source": [
    "X = df.drop(columns=['Churn']); y = df['Churn']\n",
    "Xtr, Xte, ytr, yte = train_test_split(X,y,stratify=y,random_state=42,test_size=0.2)\n",
    "num_cols = X.select_dtypes(include=['int64','float64']).columns.tolist()\n",
    "cat_cols = X.select_dtypes(exclude=['int64','float64']).columns.tolist()\n",
    "num_pipeline = Pipeline([('imputer',SimpleImputer(strategy='median')),('scaler',StandardScaler())])\n",
    "cat_pipeline = Pipeline([('imputer',SimpleImputer(strategy='most_frequent')),('ohe',OneHotEncoder(handle_unknown='ignore'))])\n",
    "preprocessor = ColumnTransformer([('num',num_pipeline,num_cols),('cat',cat_pipeline,cat_cols)])\n",
    "pipe = Pipeline([('preproc',preprocessor),('clf',RandomForestClassifier(n_estimators=100,random_state=0))])\n",
    "param_grid={'clf__n_estimators':[100],'clf__max_depth':[5,10,None]}\n",
    "gs=GridSearchCV(pipe,param_grid,cv=3,scoring='f1',n_jobs=1)\n",
    "gs.fit(Xtr,ytr)\n",
    "best=gs.best_estimator_\n",
    "print('Best params',gs.best_params_)\n",
    "pred=best.predict(Xte)\n",
    "print('Accuracy',accuracy_score(yte,pred))\n",
    "joblib.dump(best,'telco_churn_pipeline.joblib')\n",
    "print('Saved pipeline')"
   ]
  }
 ],
 "metadata": {},
 "nbformat": 4,
 "nbformat_minor": 5
}
